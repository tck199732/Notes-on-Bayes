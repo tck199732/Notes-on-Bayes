{
 "cells": [
  {
   "cell_type": "markdown",
   "metadata": {},
   "source": [
    "# Gaussian Mixture Model\n",
    "\n",
    "Consider a set of data containing a mixture of $K$ 1d-gaussians with different $\\mu_k$ and $\\sigma_k$. Denote $z_i$ as the particular gaussian that the i-th particle comes from, which is modeled as Dirichlet distribution with some fixed parameter $\\alpha$.  \n",
    "Mathematically, \n",
    "\n",
    "\\begin{gather*}\n",
    "z_i \\sim \\text{Categorical}(\\pi)\\\\\n",
    "\\pi \\sim Dir(\\alpha)\\\\\n",
    "x_i|\\mathbf{\\mu}, z_i \\sim \\mathcal{N}(\\mathbf{c}^T\\mathbf{\\mu}, \\mathbf{\\sigma})\n",
    "\\end{gather*}\n",
    "\n",
    "Let's visualize the data."
   ]
  },
  {
   "cell_type": "code",
   "execution_count": 20,
   "metadata": {},
   "outputs": [
    {
     "data": {
      "image/png": "[encoded data removed]",
      "text/plain": [
       "<Figure size 432x288 with 1 Axes>"
      ]
     },
     "metadata": {
      "needs_background": "light"
     },
     "output_type": "display_data"
    }
   ],
   "source": [
    "import numpy as np\n",
    "import matplotlib.pyplot as plt\n",
    "from sklearn import datasets\n",
    "\n",
    "X, y, centers = datasets.make_blobs(n_samples=50000, n_features=1, centers=3, center_box=(-5,7), return_centers=True, random_state=0)\n",
    "bins = 50\n",
    "fig, ax = plt.subplots()\n",
    "ax.hist(X[np.where(y==0)], bins=bins, color='r', histtype='step', label=f'$\\mu=${centers[0][0]:2f}')\n",
    "ax.hist(X[np.where(y==1)], bins=bins, color='b', histtype='step', label=f'$\\mu=${centers[1][0]:2f}')\n",
    "ax.hist(X[np.where(y==2)], bins=bins, color='g', histtype='step', label=f'$\\mu=${centers[2][0]:.2f}')\n",
    "ax.hist(X, bins=bins, color='k', label='total', histtype='step')\n",
    "ax.set(xlabel='X')\n",
    "ax.legend()\n",
    "plt.tight_layout()"
   ]
  },
  {
   "cell_type": "markdown",
   "metadata": {},
   "source": [
    "As seen from the figure, the data we can observe would be the sum of the gaussian distributions. If these gaussians are close then we could not distinguish them from being one gaussian or a mixture of gaussian. Our goal, as usual, is to calculate the posterior given the data. The problem would be as easy as one single gaussian if we know which gaussian each data point comes from. In reality we don't, thus we need to introduce the latent variables."
   ]
  },
  {
   "cell_type": "markdown",
   "metadata": {},
   "source": [
    "## Mean field Variational inference for GMM\n",
    " In our case, we know or we want to group the data into $K$ gaussian, what we want to learn is the posterior for variable $X$, latent variables $Z$ which tells us which gaussian it belongs to, and finally $\\pi$ the pdf of these gaussians. Our probablistic model is\n",
    "\\begin{equation*}\n",
    "p(X, Z, \\pi|\\mu, \\sigma) = p(\\pi)\\prod_{i=1}^{N} p(z_i|\\pi) p(x_i|z_i,\\mu,\\sigma) = Dir(\\pi|\\alpha) \\prod_{i=1}^N \\prod_{k=1}^K \\big[\\pi_k \\mathcal{N}(x_i|\\mu_k, \\sigma_k)\\big]^{z_{ik}}\n",
    "\\end{equation*}\n",
    "Note that $z_{ik}$ is either 1 or 0 to pick the gaussian from which the data point belongs to."
   ]
  },
  {
   "cell_type": "markdown",
   "metadata": {},
   "source": [
    "#### Test for conjugacy\n",
    "First, we need to verify that GMM satisfy conditional conjugacy. Namely, if we fix $Z$, the prior has the form\n",
    "\\begin{gather*}\n",
    "\\text{prior:} \\qquad p(\\pi,Z) = p(\\pi) \\prod_{i=1}^N p(z_i|\\pi) = Dir(\\pi|\\alpha) \\prod_{i=1}^N\\prod_{k=1}^K \\pi_k^{z_{ik}} = C\\prod_{k=1}^K \\pi_k^C \\\\\n",
    "\\text{posterior:} \\qquad p(Z,\\pi|X) \\propto p(X,Z,\\pi) = Dir(\\pi|\\alpha)  \\prod_{i=1}^N\\prod_{k=1}^K C^{z_{ik}} \\pi_k^{z_{ik}} = C\\prod_{k=1}^K \\pi_k^C\n",
    "\\end{gather*}"
   ]
  },
  {
   "cell_type": "markdown",
   "metadata": {},
   "source": [
    "where $\\prod_{i=1}^N \\pi_k^{z_{ik}} \\rightarrow \\prod_{i=1}^N \\pi_k^C \\rightarrow \\pi_k^C$, all C represent differenet constants. If we fix $\\pi$, then\n",
    "\\begin{gather*}\n",
    "\\text{prior:} \\qquad p(\\pi,Z) = p(\\pi) \\prod_{i=1}^N p(z_i|\\pi) = Dir(\\pi|\\alpha) \\prod_{i=1}^N\\prod_{k=1}^K \\pi_k^{z_{ik}} = C\\prod_{i=1}^N\\prod_{k=1}^K C^{z_{ik}} \\\\\n",
    "\\text{posterior:} \\qquad p(Z,\\pi|X) \\propto p(X,Z,\\pi) = Dir(\\pi|\\alpha)  \\prod_{i=1}^N\\prod_{k=1}^K C^{z_{ik}} \\pi_k^{z_{ik}} = C \\prod_{i=1}^N\\prod_{k=1}^K C^{z_{ik}}\n",
    "\\end{gather*}\n",
    "Therefore, it is ok to apply block coordinate ascent. Next we proceed to get the update rule for $q(Z)$ and $q(\\pi)$."
   ]
  },
  {
   "cell_type": "markdown",
   "metadata": {},
   "source": [
    "## EM Algorithm\n",
    "In a mean-field approximation, we neglect any correlation between the latent variables, very much like the mean-field approximation in many body problem which allows us to diagonalize the Hamiltonian. Mathematically, $q(Z,\\pi) = q(Z)q(\\pi)$. Here, the model involves X, latent variables Z and $\\pi$ and parameters of the gaussians. In case like this, it is suggested to use the Expectation-Maximization (EM) algorithm in which the E-step updates the pdf of latent variables (using Coordinate Ascent for Variational Inference) and the M-step optimizes the parameters. In this ipynb, I take this approach as axiom and possibly will study the 'proof' later. \n",
    "\n",
    "#### E-step : Update Rule for $q(Z)$ and $q(\\pi)$\n",
    "The alogorithm of \"Coordinate Ascent for Variational Inference\" tells us the update rule for each latent variables : \n",
    "\\begin{equation*}\n",
    "q_k(\\theta_k) \\propto \\exp\\bigg[\\mathbb{E}_{q_{-k}(\\theta_{-k})}\\log p(\\theta,x) \\bigg]\n",
    "\\end{equation*}"
   ]
  },
  {
   "cell_type": "markdown",
   "metadata": {},
   "source": [
    "In our case, \n",
    "\\begin{align*}\n",
    "\\log q(\\pi) &= \\mathbb{E}_{q(Z)}\\log p(X, Z, \\pi) + \\text{const} \\\\ \n",
    "&= \\mathbb{E}_{q(Z)} \\bigg[ \\sum_{k=1}^K (\\alpha_k-1)\\log \\pi_k + \\sum_{i=1}^N\\sum_{k=1}^K z_{ik}\\log \\pi_k \\bigg] + \\text{const}\\\\\n",
    "&= \\sum_{k=1}^K (\\alpha_k-1)\\log \\pi_k + \\sum_{i=1}^N\\sum_{k=1}^K \\mathbb{E}_{q(Z)}z_{ik} \\log \\pi_k + \\text{const} \\\\\n",
    "&= \\sum_{k=1}^K \\log \\pi_k \\bigg( \\alpha_k -1 + \\sum_{i=1}^N \\mathbb{E}_{q(Z)}z_{ik} \\bigg) + \\text{const}\n",
    "\\end{align*}"
   ]
  },
  {
   "cell_type": "markdown",
   "metadata": {},
   "source": [
    "where we have used the relation $Dir(\\pi|\\alpha) \\propto \\prod_{k=1}^K \\pi_k^{\\alpha_k-1}$ before taking the log. Due to the conditional conjugacy $q(\\pi)$ would have the same form as prior and thus we get the update rule :\n",
    "\\begin{gather*}\n",
    "q(\\pi) = Dir(\\pi | \\alpha')\\\\\n",
    "\\alpha_k' = \\alpha_k + \\sum_{i=1}^N \\mathbb{E}_{q(Z)} z_{ik}  = \\alpha_k + \\sum_{i=1}^N q(z_{ik}=1)\n",
    "\\end{gather*}\n",
    "\n",
    "\n"
   ]
  },
  {
   "cell_type": "markdown",
   "metadata": {},
   "source": [
    "The update rule for $q(Z)$:\n",
    "\\begin{align*}\n",
    "    \\log q(Z) &= \\mathbb{E}_{q(\\pi)}\\log p(X, Z, \\pi) + \\text{const} \\\\ \n",
    "    &= \\mathbb{E}_{q(\\pi)} \\sum_{i=1}^N\\sum_{k=1}^K z_{ik}\\bigg[\\log \\pi_k + \\log \\mathcal{N}(x_i| \\mu_k,\\sigma_k) \\bigg] + \\text{const}\\\\\n",
    "    &= \\sum_{i=1}^N\\sum_{k=1}^K z_{ik}\\bigg[\\mathbb{E}_{q(\\pi)} \\log \\pi_k + \\log \\mathcal{N}(x_i| \\mu_k,\\sigma_k) \\bigg] + \\text{const} \\\\\n",
    "    &= \\sum_{i=1}^N\\sum_{k=1}^K z_{ik}\\log \\rho_{ik} + \\text{const}\n",
    "\\end{align*} "
   ]
  },
  {
   "cell_type": "markdown",
   "metadata": {},
   "source": [
    "where we denote $\\log \\rho_{ik} = \\mathbb{E}_{q(\\pi)} \\log \\pi_k + \\log \\mathcal{N}(x_i| \\mu_k,\\sigma_l)$ since again by conjugacy we know $q(Z)$ is categorical. We can see that \n",
    "\\begin{gather*}\n",
    "q(Z)\\propto \\prod_{i=1}^N\\prod_{k=1}^K \\rho_{ik}^{z_{ik}}\n",
    "\\end{gather*}\n",
    "\n",
    "We can then normalize by using $\\sum_{k=1}^K p(z_{ik}=1) = \\sum_{k=1}^K \\rho_{ik}= 1$, i.e.\n",
    "\\begin{gather*}\n",
    "q(Z)= \\prod_{i=1}^N\\prod_{k=1}^K \\bigg(\\frac{\\rho_{ik}}{\\sum_{l=1}^K \\rho_{il}}\\bigg)^{z_{ik}} \\\\\n",
    "\\log \\rho_{ik} = \\mathbb{E}_{q(\\pi)} \\log \\pi_k + \\log \\mathcal{N}(x_i|\\mu_k,\\sigma_k)\n",
    "\\end{gather*}"
   ]
  },
  {
   "cell_type": "markdown",
   "metadata": {},
   "source": [
    "Note that\n",
    "- the expectation term in $\\rho_{ik}$ can be calculated with the update rule of $q(\\pi)$. \n",
    "- the expectaton of Dirichlet distribution is given by di-gamma function $\\psi(\\alpha_k) - \\psi(\\sum_i \\alpha_i)$"
   ]
  },
  {
   "cell_type": "markdown",
   "metadata": {},
   "source": [
    "#### M-step : Maximize ELBO with respect to parameters\n",
    "In M-step, we use the $q(Z)$ found in E-step to optimize:\n",
    "\\begin{equation*}\n",
    "\\theta^{\\text{NEW}} = \\argmax_{\\theta} \\mathbb{E}_{p(Z)} \\log p(X,Z; \\theta)\n",
    "\\end{equation*}\n",
    "The expectation value, dropping the term independent of $\\mu, \\sigma$, is\n",
    "\\begin{align*}\n",
    "\\mathbb{E}_{p(Z,\\pi)} \\log p(X,Z,\\pi; \\mu, \\sigma) &= \\mathbb{E}_{p(Z,\\pi)} \\log\\bigg( Dir(\\pi|\\alpha) \\prod_{i=1}^N \\prod_{k=1}^K \\big[\\pi_k \\mathcal{N}(x_i|\\mu_k, \\sigma_k)\\big]^{z_{ik}}\\bigg) \\\\\n",
    "&= \\mathbb{E}_{p(Z,\\pi)} \\bigg[ \\log Dir(\\pi|\\alpha) + \\sum_{i=1}^N\\sum_{k=1}^K z_{ik}\\log\\pi_k + z_{ik}\\log \\mathcal{N}(x_i|\\mu_k,\\sigma_k) \\bigg]\\\\\n",
    "&= \\sum_{i=1}^N\\sum_{k=1}^K \\mathbb{E}_{p(Z)}z_{ik}\\log \\mathcal{N}(x_i|\\mu_k,\\sigma_k) + \\text{const}\\\\\n",
    "&=\\sum_{i=1}^N\\sum_{k=1}^K \\mathbb{E}_{p(Z)}z_{ik} \\bigg( -\\log \\sigma_k - \\frac{(x_i-\\mu_k)^2}{2\\sigma_k^2}\\bigg) + \\text{const}\\\\\n",
    "&=\\sum_{i=1}^N\\sum_{k=1}^K\\gamma_{ik} \\bigg( -\\log \\sigma_k - \\frac{(x_i-\\mu_k)^2}{2\\sigma_k^2}\\bigg) + \\text{const} \\\\\n",
    "&= \\sum_{i=1}^N\\sum_{k=1}^K\\gamma_{ik} \\bigg( \\frac{1}{2}\\log \\lambda_k - \\frac{(x_i-\\mu_k)^2}{2}\\lambda_k\\bigg) + \\text{const}\n",
    "\\end{align*}\n"
   ]
  },
  {
   "cell_type": "markdown",
   "metadata": {},
   "source": [
    "The expectation of Dirichlet distribution does not depend on $\\mu$ and $\\sigma$, thus is regarded as constant. Variate with respect to $\\mu_k$, \n",
    "\\begin{align*}\n",
    "\\sum_{i=1}^N\\gamma_{ik} \\frac{x_i-\\mu_k}{\\sigma_k^2} = 0 \\implies \\mu_k = \\frac{\\sum_{i=1}^N \\gamma_{ik}x_i}{\\sum_{i=1}^N\\gamma_{ik}}\n",
    "\\end{align*}\n"
   ]
  },
  {
   "cell_type": "markdown",
   "metadata": {},
   "source": [
    "Variate with respect to $\\lambda_k = 1/\\sigma_k^2$,\n",
    "\\begin{align*}\n",
    "\\sum_{i=1}^N\\gamma_{ik}\\bigg(\\frac{1}{\\lambda_k} - (x_i-\\mu_k)^2\\bigg) = 0 \\implies \\lambda_k = \\frac{\\sum_{i=1}^N\\gamma_{ik}}{\\sum_{i=1}^N\\gamma_{ik}(x_i-\\mu_k)^2}\n",
    "\\end{align*}"
   ]
  },
  {
   "cell_type": "markdown",
   "metadata": {},
   "source": [
    "#### Implementation of \"GMM with Dirichlet Prior\"\n",
    "\n",
    "- inialize $q(Z)$ and $\\alpha$ \n",
    "- initialize ELBO (optional)\n",
    "- while not converged: \n",
    "    - E-step : update $\\alpha$, $q(Z)$ \n",
    "    - M-step : update $\\mu$, $\\lambda$ \n",
    "    - break if change in ELBO < tolerance\n",
    "\n",
    "Here, I will write a short code to implement the algorithm to test on 1D data generated above. In the next note, I will write a more detailed version to cover multi-dimensional case and add back the basic GMM, very much like the sklearn GMM. "
   ]
  },
  {
   "cell_type": "code",
   "execution_count": 27,
   "metadata": {},
   "outputs": [],
   "source": [
    "from scipy.stats import multivariate_normal\n",
    "from scipy.special import digamma\n",
    "\n",
    "class Dirichlet_GMM1D:\n",
    "    def __init__(self, n_components=1, max_iter=100):\n",
    "        self.n_components = n_components\n",
    "        self.max_iter = max_iter\n",
    "\n",
    "    def fit(self, X):\n",
    "        self._initialize(X)\n",
    "\n",
    "        for it in range(self.max_iter):\n",
    "            self._e_step(X)\n",
    "            self._m_step(X)\n",
    "        \n",
    "    def _initialize(self, X):\n",
    "        n_samples, _ = X.shape\n",
    "        self.alpha = np.full(shape=self.n_components, fill_value=1./self.n_components)\n",
    "        self.qz = np.zeros(shape=(n_samples, self.n_components))\n",
    "        for n in range(n_samples):\n",
    "            k = np.random.randint(0, self.n_components)\n",
    "            self.qz[n][k] = 1\n",
    "\n",
    "        indices = np.random.randint(0, n_samples, size=self.n_components)\n",
    "        self.means_ = [X[i] for i in indices]\n",
    "        self.precisions_ = [1./np.var(X) for _ in range(self.n_components)]\n",
    "        \n",
    "\n",
    "    def _e_step(self, X):\n",
    "\n",
    "        nk = np.sum(self.qz, axis=0)\n",
    "        for k in range(self.n_components):\n",
    "            self.alpha[k] += nk[k]\n",
    "        \n",
    "        likelihood = np.zeros(shape=self.qz.shape)\n",
    "        for k in range(self.n_components):\n",
    "            distribution = multivariate_normal(mean=self.means_[k], cov=1./self.precisions_[k])\n",
    "            likelihood[:, k] = digamma(self.alpha[k]) - digamma(np.sum(self.alpha)) + np.log(distribution.pdf(X))\n",
    "\n",
    "        numerator = np.exp(likelihood)\n",
    "        denominator = np.sum(numerator, axis=1)[:, np.newaxis]\n",
    "        self.qz = numerator / denominator\n",
    "\n",
    "        \n",
    "    def _m_step(self, X):\n",
    "        nk = np.sum(self.qz, axis=0)\n",
    "\n",
    "        self.means_ = np.dot(self.qz.T, X) / nk[:, np.newaxis]\n",
    "        var = np.empty(shape=self.n_components)\n",
    "        for k in range(self.n_components):\n",
    "            diff = X - self.means_[k]\n",
    "            var[k] = np.dot(self.qz[:, k] * diff.T, diff) / nk[k]\n",
    "        self.precisions_ = 1. / var"
   ]
  },
  {
   "cell_type": "code",
   "execution_count": 25,
   "metadata": {},
   "outputs": [
    {
     "name": "stdout",
     "output_type": "stream",
     "text": [
      "[[3.45178719]\n",
      " [1.69957529]\n",
      " [2.08488072]]\n",
      "[[1.58576205]\n",
      " [3.5822724 ]\n",
      " [2.23316051]]\n"
     ]
    }
   ],
   "source": [
    "gmm = Dirichlet_GMM1D(3, 1000)\n",
    "gmm.fit(X)\n",
    "\n",
    "print(gmm.means_)\n",
    "print(centers)"
   ]
  },
  {
   "cell_type": "code",
   "execution_count": null,
   "metadata": {},
   "outputs": [],
   "source": []
  }
 ],
 "metadata": {
  "kernelspec": {
   "display_name": "Python 3.9.12 ('base')",
   "language": "python",
   "name": "python3"
  },
  "language_info": {
   "codemirror_mode": {
    "name": "ipython",
    "version": 3
   },
   "file_extension": ".py",
   "mimetype": "text/x-python",
   "name": "python",
   "nbconvert_exporter": "python",
   "pygments_lexer": "ipython3",
   "version": "3.9.12"
  },
  "orig_nbformat": 4,
  "vscode": {
   "interpreter": {
    "hash": "7d3cd1669c9bd0bc4a10448fec43c91475e59e3af6819e48dac91adb18c81ad3"
   }
  }
 },
 "nbformat": 4,
 "nbformat_minor": 2
}
