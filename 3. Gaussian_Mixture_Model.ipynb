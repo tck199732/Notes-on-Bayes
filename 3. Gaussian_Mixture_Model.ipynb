{
 "cells": [
  {
   "cell_type": "markdown",
   "metadata": {},
   "source": [
    "# Gaussian Mixture Model\n",
    "\n",
    "Consider a set of data containing a mixture of $K$ 1d-gaussians with different $\\mu_k$ and $\\sigma_k$. Each $\\mu_k$ follows some normal distribution with some variance and denote $c_i$ as the particular gaussian that the i-th particle comes from. \n",
    "Mathematically, \n",
    "\n",
    "\\begin{gather*}\n",
    "\\mu_k \\sim \\mathcal{N}(0, s^2) \\\\\n",
    "c_i \\sim Categorical(1/K, \\cdots) \\\\\n",
    "x_i|\\mathbf{\\mu}, c_i \\sim \\mathcal{N}(\\mathbf{c}^T\\mathbf{\\mu}, \\mathbf{\\sigma})\n",
    "\\end{gather*}\n",
    "\n",
    "Let's visualize the data."
   ]
  },
  {
   "cell_type": "code",
   "execution_count": 34,
   "metadata": {},
   "outputs": [
    {
     "data": {
      "image/png": "[encoded data removed]",
      "text/plain": [
       "<Figure size 432x288 with 1 Axes>"
      ]
     },
     "metadata": {
      "needs_background": "light"
     },
     "output_type": "display_data"
    }
   ],
   "source": [
    "import numpy as np\n",
    "from scipy import stats\n",
    "import matplotlib.pyplot as plt\n",
    "\n",
    "\n",
    "class gaussian_mixture_model_1d:\n",
    "    def __init__(self):\n",
    "        self.mixtures = dict()\n",
    "        self.samples = dict()\n",
    "\n",
    "    def add_gaussian(self, mean, sigma):\n",
    "        model = stats.multivariate_normal(mean, cov=sigma)\n",
    "        self.mixtures[(mean,sigma)] = model\n",
    "    \n",
    "    def sample(self, sizes):\n",
    "        sizes = list(sizes)\n",
    "        while len(sizes) < len(self.mixtures):\n",
    "            sizes.append(sizes[-1])\n",
    "        for i, (key, model) in enumerate(self.mixtures):\n",
    "            self.sample[key] = self.model.rvs(size = sizes[i])\n",
    "\n",
    "    def plot_samples(self, ax=None, sizes=[100], **kwargs):\n",
    "        if ax is None:\n",
    "            ax = plt.gca()\n",
    "        \n",
    "        kw = dict(\n",
    "            fmt = 'k.',\n",
    "        )\n",
    "        kw.update(kwargs)\n",
    "        data = self.sample(sample_size=sample_size)\n",
    "        x, y= data.T\n",
    "        ax.errorbar(x, y, **kw)\n",
    "\n",
    "class gaussian_model_2d:\n",
    "    def __init__(self, mean=[0,0], cov=[[1,0],[0,2]]):\n",
    "        self.model = stats.multivariate_normal(mean, cov)\n",
    "\n",
    "    def sample(self, sample_size):\n",
    "        return self.model.rvs(size=sample_size)\n",
    "\n",
    "    def plot_pdf(self, ax=None, range=[(-1,1), (-1,1)], interval=(0.01,0.01), **kwargs):\n",
    "        x = np.arange(*range[0], interval[0])\n",
    "        y = np.arange(*range[1], interval[1])\n",
    "        xx, yy = np.meshgrid(x, y, indexing='ij')\n",
    "        zz = np.dstack((xx, yy))\n",
    "         \n",
    "        kw = dict(\n",
    "            cmap = 'jet',\n",
    "        )\n",
    "        kw.update(kwargs)\n",
    "        if ax is None:\n",
    "            ax = plt.gca()\n",
    "        ax.contourf(xx, yy, self.model.pdf(zz), **kw)\n",
    "\n",
    "    def plot_sample(self, ax=None, sample_size=1, **kwargs):\n",
    "        if ax is None:\n",
    "            ax = plt.gca()\n",
    "        \n",
    "        kw = dict(\n",
    "            fmt = 'k.',\n",
    "        )\n",
    "        kw.update(kwargs)\n",
    "        data = self.sample(sample_size=sample_size)\n",
    "        x, y= data.T\n",
    "        ax.errorbar(x, y, **kw)\n"
   ]
  },
  {
   "cell_type": "markdown",
   "metadata": {},
   "source": []
  },
  {
   "cell_type": "code",
   "execution_count": null,
   "metadata": {},
   "outputs": [],
   "source": []
  }
 ],
 "metadata": {
  "kernelspec": {
   "display_name": "Python 3.9.12 ('base')",
   "language": "python",
   "name": "python3"
  },
  "language_info": {
   "codemirror_mode": {
    "name": "ipython",
    "version": 3
   },
   "file_extension": ".py",
   "mimetype": "text/x-python",
   "name": "python",
   "nbconvert_exporter": "python",
   "pygments_lexer": "ipython3",
   "version": "3.9.12"
  },
  "orig_nbformat": 4,
  "vscode": {
   "interpreter": {
    "hash": "7d3cd1669c9bd0bc4a10448fec43c91475e59e3af6819e48dac91adb18c81ad3"
   }
  }
 },
 "nbformat": 4,
 "nbformat_minor": 2
}
