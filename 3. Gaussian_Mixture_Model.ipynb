{
 "cells": [
  {
   "cell_type": "markdown",
   "metadata": {},
   "source": [
    "# Gaussian Mixture Model\n",
    "\n",
    "Consider a set of data containing a mixture of $K$ 1d-gaussians with different $\\mu_k$ and $\\sigma_k$. Each $\\mu_k$ follows some normal distribution with some variance and denote $c_i$ as the particular gaussian that the i-th particle comes from. \n",
    "Mathematically, \n",
    "\n",
    "\\begin{gather*}\n",
    "\\mu_k \\sim \\mathcal{N}(0, s^2) \\\\\n",
    "c_i \\sim Categorical(1/K, \\cdots) \\\\\n",
    "x_i|\\mathbf{\\mu}, c_i \\sim \\mathcal{N}(\\mathbf{c}^T\\mathbf{\\mu}, \\mathbf{\\sigma})\n",
    "\\end{gather*}\n",
    "\n",
    "Let's visualize the data."
   ]
  },
  {
   "cell_type": "code",
   "execution_count": 37,
   "metadata": {},
   "outputs": [
    {
     "ename": "AttributeError",
     "evalue": "'gaussian_mixture_model_1d' object has no attribute 'model'",
     "output_type": "error",
     "traceback": [
      "\u001b[0;31m---------------------------------------------------------------------------\u001b[0m",
      "\u001b[0;31mAttributeError\u001b[0m                            Traceback (most recent call last)",
      "\u001b[1;32m/home/kin/Desktop/Notes-on-Bayes/3. Gaussian_Mixture_Model.ipynb Cell 2\u001b[0m in \u001b[0;36m<cell line: 42>\u001b[0;34m()\u001b[0m\n\u001b[1;32m     <a href='vscode-notebook-cell://ssh-remote%2B141.218.60.38/home/kin/Desktop/Notes-on-Bayes/3.%20Gaussian_Mixture_Model.ipynb#W1sdnNjb2RlLXJlbW90ZQ%3D%3D?line=39'>40</a>\u001b[0m gmm\u001b[39m.\u001b[39madd_gaussian(\u001b[39m3\u001b[39m, \u001b[39m1.25\u001b[39m)\n\u001b[1;32m     <a href='vscode-notebook-cell://ssh-remote%2B141.218.60.38/home/kin/Desktop/Notes-on-Bayes/3.%20Gaussian_Mixture_Model.ipynb#W1sdnNjb2RlLXJlbW90ZQ%3D%3D?line=40'>41</a>\u001b[0m gmm\u001b[39m.\u001b[39madd_gaussian(\u001b[39m2\u001b[39m, \u001b[39m1.5\u001b[39m)\n\u001b[0;32m---> <a href='vscode-notebook-cell://ssh-remote%2B141.218.60.38/home/kin/Desktop/Notes-on-Bayes/3.%20Gaussian_Mixture_Model.ipynb#W1sdnNjb2RlLXJlbW90ZQ%3D%3D?line=41'>42</a>\u001b[0m gmm\u001b[39m.\u001b[39;49mplot_samples()\n\u001b[1;32m     <a href='vscode-notebook-cell://ssh-remote%2B141.218.60.38/home/kin/Desktop/Notes-on-Bayes/3.%20Gaussian_Mixture_Model.ipynb#W1sdnNjb2RlLXJlbW90ZQ%3D%3D?line=46'>47</a>\u001b[0m \u001b[39mclass\u001b[39;00m \u001b[39mgaussian_model_2d\u001b[39;00m:\n\u001b[1;32m     <a href='vscode-notebook-cell://ssh-remote%2B141.218.60.38/home/kin/Desktop/Notes-on-Bayes/3.%20Gaussian_Mixture_Model.ipynb#W1sdnNjb2RlLXJlbW90ZQ%3D%3D?line=47'>48</a>\u001b[0m     \u001b[39mdef\u001b[39;00m \u001b[39m__init__\u001b[39m(\u001b[39mself\u001b[39m, mean\u001b[39m=\u001b[39m[\u001b[39m0\u001b[39m,\u001b[39m0\u001b[39m], cov\u001b[39m=\u001b[39m[[\u001b[39m1\u001b[39m,\u001b[39m0\u001b[39m],[\u001b[39m0\u001b[39m,\u001b[39m2\u001b[39m]]):\n",
      "\u001b[1;32m/home/kin/Desktop/Notes-on-Bayes/3. Gaussian_Mixture_Model.ipynb Cell 2\u001b[0m in \u001b[0;36mgaussian_mixture_model_1d.plot_samples\u001b[0;34m(self, ax, sizes, **kwargs)\u001b[0m\n\u001b[1;32m     <a href='vscode-notebook-cell://ssh-remote%2B141.218.60.38/home/kin/Desktop/Notes-on-Bayes/3.%20Gaussian_Mixture_Model.ipynb#W1sdnNjb2RlLXJlbW90ZQ%3D%3D?line=28'>29</a>\u001b[0m kw \u001b[39m=\u001b[39m \u001b[39mdict\u001b[39m(\n\u001b[1;32m     <a href='vscode-notebook-cell://ssh-remote%2B141.218.60.38/home/kin/Desktop/Notes-on-Bayes/3.%20Gaussian_Mixture_Model.ipynb#W1sdnNjb2RlLXJlbW90ZQ%3D%3D?line=29'>30</a>\u001b[0m     fmt \u001b[39m=\u001b[39m \u001b[39m'\u001b[39m\u001b[39mk.\u001b[39m\u001b[39m'\u001b[39m,\n\u001b[1;32m     <a href='vscode-notebook-cell://ssh-remote%2B141.218.60.38/home/kin/Desktop/Notes-on-Bayes/3.%20Gaussian_Mixture_Model.ipynb#W1sdnNjb2RlLXJlbW90ZQ%3D%3D?line=30'>31</a>\u001b[0m )\n\u001b[1;32m     <a href='vscode-notebook-cell://ssh-remote%2B141.218.60.38/home/kin/Desktop/Notes-on-Bayes/3.%20Gaussian_Mixture_Model.ipynb#W1sdnNjb2RlLXJlbW90ZQ%3D%3D?line=32'>33</a>\u001b[0m kw\u001b[39m.\u001b[39mupdate(kwargs)\n\u001b[0;32m---> <a href='vscode-notebook-cell://ssh-remote%2B141.218.60.38/home/kin/Desktop/Notes-on-Bayes/3.%20Gaussian_Mixture_Model.ipynb#W1sdnNjb2RlLXJlbW90ZQ%3D%3D?line=33'>34</a>\u001b[0m datum  \u001b[39m=\u001b[39m \u001b[39mself\u001b[39;49m\u001b[39m.\u001b[39;49m_sample(sizes)\n\u001b[1;32m     <a href='vscode-notebook-cell://ssh-remote%2B141.218.60.38/home/kin/Desktop/Notes-on-Bayes/3.%20Gaussian_Mixture_Model.ipynb#W1sdnNjb2RlLXJlbW90ZQ%3D%3D?line=34'>35</a>\u001b[0m \u001b[39mfor\u001b[39;00m i, (key,data) \u001b[39min\u001b[39;00m \u001b[39menumerate\u001b[39m(datum):\n\u001b[1;32m     <a href='vscode-notebook-cell://ssh-remote%2B141.218.60.38/home/kin/Desktop/Notes-on-Bayes/3.%20Gaussian_Mixture_Model.ipynb#W1sdnNjb2RlLXJlbW90ZQ%3D%3D?line=35'>36</a>\u001b[0m     \u001b[39mprint\u001b[39m(data)\n",
      "\u001b[1;32m/home/kin/Desktop/Notes-on-Bayes/3. Gaussian_Mixture_Model.ipynb Cell 2\u001b[0m in \u001b[0;36mgaussian_mixture_model_1d._sample\u001b[0;34m(self, sizes)\u001b[0m\n\u001b[1;32m     <a href='vscode-notebook-cell://ssh-remote%2B141.218.60.38/home/kin/Desktop/Notes-on-Bayes/3.%20Gaussian_Mixture_Model.ipynb#W1sdnNjb2RlLXJlbW90ZQ%3D%3D?line=17'>18</a>\u001b[0m     sizes\u001b[39m.\u001b[39mappend(sizes[\u001b[39m-\u001b[39m\u001b[39m1\u001b[39m])\n\u001b[1;32m     <a href='vscode-notebook-cell://ssh-remote%2B141.218.60.38/home/kin/Desktop/Notes-on-Bayes/3.%20Gaussian_Mixture_Model.ipynb#W1sdnNjb2RlLXJlbW90ZQ%3D%3D?line=18'>19</a>\u001b[0m \u001b[39mfor\u001b[39;00m i, (key, model) \u001b[39min\u001b[39;00m \u001b[39menumerate\u001b[39m(\u001b[39mself\u001b[39m\u001b[39m.\u001b[39mmixtures):\n\u001b[0;32m---> <a href='vscode-notebook-cell://ssh-remote%2B141.218.60.38/home/kin/Desktop/Notes-on-Bayes/3.%20Gaussian_Mixture_Model.ipynb#W1sdnNjb2RlLXJlbW90ZQ%3D%3D?line=19'>20</a>\u001b[0m     \u001b[39mself\u001b[39m\u001b[39m.\u001b[39msamples[key] \u001b[39m=\u001b[39m \u001b[39mself\u001b[39;49m\u001b[39m.\u001b[39;49mmodel\u001b[39m.\u001b[39mrvs(size \u001b[39m=\u001b[39m sizes[i])\n\u001b[1;32m     <a href='vscode-notebook-cell://ssh-remote%2B141.218.60.38/home/kin/Desktop/Notes-on-Bayes/3.%20Gaussian_Mixture_Model.ipynb#W1sdnNjb2RlLXJlbW90ZQ%3D%3D?line=21'>22</a>\u001b[0m \u001b[39mreturn\u001b[39;00m \u001b[39mself\u001b[39m\u001b[39m.\u001b[39msample\n",
      "\u001b[0;31mAttributeError\u001b[0m: 'gaussian_mixture_model_1d' object has no attribute 'model'"
     ]
    },
    {
     "data": {
      "image/png": "[encoded data removed]",
      "text/plain": [
       "<Figure size 432x288 with 1 Axes>"
      ]
     },
     "metadata": {
      "needs_background": "light"
     },
     "output_type": "display_data"
    }
   ],
   "source": [
    "import numpy as np\n",
    "from scipy import stats\n",
    "import matplotlib.pyplot as plt\n",
    "\n",
    "\n",
    "class gaussian_mixture_model_1d:\n",
    "    def __init__(self):\n",
    "        self.mixtures = dict()\n",
    "        self.samples = dict()\n",
    "\n",
    "    def add_gaussian(self, mean, sigma):\n",
    "        model = stats.multivariate_normal(mean, cov=sigma)\n",
    "        self.mixtures[(mean,sigma)] = model\n",
    "    \n",
    "    def _sample(self, sizes):\n",
    "        sizes = list(sizes)\n",
    "        while len(sizes) < len(self.mixtures):\n",
    "            sizes.append(sizes[-1])\n",
    "        for i, (key, model) in enumerate(self.mixtures):\n",
    "            self.samples[key] = self.mixtures.rvs(size = sizes[i])\n",
    "\n",
    "        return self.sample\n",
    "\n",
    "    def plot_samples(self, ax=None, sizes=[100], **kwargs):\n",
    "        if len(self.mixtures) == 0:\n",
    "            raise ValueError('no model in the mixture.')\n",
    "        if ax is None:\n",
    "            ax = plt.gca()\n",
    "        kw = dict(\n",
    "            fmt = 'k.',\n",
    "        )\n",
    "\n",
    "        kw.update(kwargs)\n",
    "        datum  = self._sample(sizes)\n",
    "        for i, (key,data) in enumerate(datum):\n",
    "            print(data)\n",
    "\n",
    "gmm = gaussian_mixture_model_1d()\n",
    "gmm.add_gaussian(1, 1)\n",
    "gmm.add_gaussian(3, 1.25)\n",
    "gmm.add_gaussian(2, 1.5)\n",
    "gmm.plot_samples()\n",
    "\n",
    "\n",
    "\n",
    "\n",
    "class gaussian_model_2d:\n",
    "    def __init__(self, mean=[0,0], cov=[[1,0],[0,2]]):\n",
    "        self.model = stats.multivariate_normal(mean, cov)\n",
    "\n",
    "    def sample(self, sample_size):\n",
    "        return self.model.rvs(size=sample_size)\n",
    "\n",
    "    def plot_pdf(self, ax=None, range=[(-1,1), (-1,1)], interval=(0.01,0.01), **kwargs):\n",
    "        x = np.arange(*range[0], interval[0])\n",
    "        y = np.arange(*range[1], interval[1])\n",
    "        xx, yy = np.meshgrid(x, y, indexing='ij')\n",
    "        zz = np.dstack((xx, yy))\n",
    "         \n",
    "        kw = dict(\n",
    "            cmap = 'jet',\n",
    "        )\n",
    "        kw.update(kwargs)\n",
    "        if ax is None:\n",
    "            ax = plt.gca()\n",
    "        ax.contourf(xx, yy, self.model.pdf(zz), **kw)\n",
    "\n",
    "    def plot_sample(self, ax=None, sample_size=1, **kwargs):\n",
    "        if ax is None:\n",
    "            ax = plt.gca()\n",
    "        \n",
    "        kw = dict(\n",
    "            fmt = 'k.',\n",
    "        )\n",
    "        kw.update(kwargs)\n",
    "        data = self.sample(sample_size=sample_size)\n",
    "        x, y= data.T\n",
    "        ax.errorbar(x, y, **kw)\n"
   ]
  },
  {
   "cell_type": "markdown",
   "metadata": {},
   "source": []
  },
  {
   "cell_type": "code",
   "execution_count": null,
   "metadata": {},
   "outputs": [],
   "source": []
  }
 ],
 "metadata": {
  "kernelspec": {
   "display_name": "Python 3.9.12 ('base')",
   "language": "python",
   "name": "python3"
  },
  "language_info": {
   "codemirror_mode": {
    "name": "ipython",
    "version": 3
   },
   "file_extension": ".py",
   "mimetype": "text/x-python",
   "name": "python",
   "nbconvert_exporter": "python",
   "pygments_lexer": "ipython3",
   "version": "3.9.12"
  },
  "orig_nbformat": 4,
  "vscode": {
   "interpreter": {
    "hash": "7d3cd1669c9bd0bc4a10448fec43c91475e59e3af6819e48dac91adb18c81ad3"
   }
  }
 },
 "nbformat": 4,
 "nbformat_minor": 2
}
