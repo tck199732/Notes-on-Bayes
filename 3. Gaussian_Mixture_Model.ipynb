{
 "cells": [
  {
   "cell_type": "markdown",
   "metadata": {},
   "source": [
    "# Gaussian Mixture Model\n",
    "\n",
    "Consider a set of data containing a mixture of $K$ 1d-gaussians with different $\\mu_k$ and $\\sigma_k$. Denote $z_i$ as the particular gaussian that the i-th particle comes from, which is modeled as Dirichlet distribution with some fixed parameter $\\alpha$.  \n",
    "Mathematically, \n",
    "\n",
    "\\begin{gather*}\n",
    "z_i \\sim \\text{Categorical}(\\pi)\\\\\n",
    "\\pi \\sim Dir(\\alpha)\\\\\n",
    "x_i|\\mathbf{\\mu}, z_i \\sim \\mathcal{N}(\\mathbf{c}^T\\mathbf{\\mu}, \\mathbf{\\sigma})\n",
    "\\end{gather*}\n",
    "\n",
    "Let's visualize the data."
   ]
  },
  {
   "cell_type": "code",
   "execution_count": 1,
   "metadata": {},
   "outputs": [],
   "source": [
    "import numpy as np\n",
    "from scipy import stats\n",
    "import matplotlib.pyplot as plt\n",
    "\n",
    "class gaussian_mixture_model_1d:\n",
    "    def __init__(self):\n",
    "        self.mixtures = dict() # true model of all gaussians\n",
    "        self.samples = dict() # corresponding samples\n",
    "\n",
    "    def add_gaussian(self, mean, sigma):\n",
    "        model = stats.multivariate_normal(mean, cov=sigma)\n",
    "        self.mixtures[(mean,sigma)] = model\n",
    "     \n",
    "    def draw_sample(self, sizes):\n",
    "        if isinstance(sizes, int):\n",
    "            sizes = [sizes]\n",
    "        sizes = list(sizes)\n",
    "        \n",
    "        while len(sizes) < len(self.mixtures):\n",
    "            sizes.append(sizes[-1])\n",
    "        \n",
    "        for i, (key, model) in enumerate(self.mixtures.items()):\n",
    "            self.samples[key] = model.rvs(size = sizes[i])\n",
    "\n",
    "        return self.samples"
   ]
  },
  {
   "cell_type": "code",
   "execution_count": 2,
   "metadata": {},
   "outputs": [
    {
     "data": {
      "image/png": "[encoded data removed]",
      "text/plain": [
       "<Figure size 432x288 with 1 Axes>"
      ]
     },
     "metadata": {
      "needs_background": "light"
     },
     "output_type": "display_data"
    }
   ],
   "source": [
    "gmm = gaussian_mixture_model_1d()\n",
    "gmm.add_gaussian(1, 1)\n",
    "gmm.add_gaussian(5, 1.25)\n",
    "gmm.add_gaussian(10, 3.5)\n",
    "datum  = gmm.draw_sample(10000)\n",
    "\n",
    "fig, ax = plt.subplots()\n",
    "obs_data = np.empty(0)\n",
    "colors = ['r', 'b', 'g']\n",
    "for i, (key, data) in enumerate(datum.items()):\n",
    "    ax.hist(data, range=(-2,30), bins=100, histtype = 'step', label=r'$\\mu={mean}$, $\\sigma={var}$'.format(mean=key[0],var=key[1]), color=colors[i], linewidth=3)\n",
    "    obs_data = np.concatenate((obs_data, data))\n",
    "\n",
    "hist, edges = np.histogram(obs_data, range=(-2,30), bins=100)\n",
    "x = 0.5 * (edges[1:] + edges[:-1])\n",
    "ax.errorbar(x, y=hist, fmt='k--', label='total', linewidth=2,)\n",
    "plt.legend(fontsize=15)\n",
    "plt.tight_layout()"
   ]
  },
  {
   "cell_type": "code",
   "execution_count": 3,
   "metadata": {},
   "outputs": [
    {
     "data": {
      "text/plain": [
       "array([[1.01175363],\n",
       "       [9.98773108],\n",
       "       [5.01611317]])"
      ]
     },
     "execution_count": 3,
     "metadata": {},
     "output_type": "execute_result"
    }
   ],
   "source": [
    "from sklearn.mixture import BayesianGaussianMixture\n",
    "dpgmm = BayesianGaussianMixture(n_components=3, random_state=0)\n",
    "np.random.shuffle(obs_data)\n",
    "obs_data = obs_data.reshape(-1,1)\n",
    "dpgmm.fit(obs_data)\n",
    "dpgmm.means_\n",
    "\n"
   ]
  },
  {
   "cell_type": "code",
   "execution_count": 4,
   "metadata": {},
   "outputs": [
    {
     "data": {
      "text/plain": [
       "array([[ 5.10926509],\n",
       "       [10.16428372],\n",
       "       [ 1.01603907]])"
      ]
     },
     "execution_count": 4,
     "metadata": {},
     "output_type": "execute_result"
    }
   ],
   "source": [
    "from sklearn.mixture import GaussianMixture\n",
    "dpgmm = GaussianMixture(n_components=3, random_state=0)\n",
    "np.random.shuffle(obs_data)\n",
    "obs_data = obs_data.reshape(-1,1)\n",
    "dpgmm.fit(obs_data)\n",
    "dpgmm.means_"
   ]
  },
  {
   "cell_type": "code",
   "execution_count": 6,
   "metadata": {},
   "outputs": [
    {
     "ename": "ValueError",
     "evalue": "setting an array element with a sequence.",
     "output_type": "error",
     "traceback": [
      "\u001b[0;31m---------------------------------------------------------------------------\u001b[0m",
      "\u001b[0;31mTypeError\u001b[0m                                 Traceback (most recent call last)",
      "\u001b[0;31mTypeError\u001b[0m: only size-1 arrays can be converted to Python scalars",
      "\nThe above exception was the direct cause of the following exception:\n",
      "\u001b[0;31mValueError\u001b[0m                                Traceback (most recent call last)",
      "\u001b[1;32m/home/kin/Desktop/Notes-on-Bayes/3. Gaussian_Mixture_Model.ipynb Cell 6\u001b[0m in \u001b[0;36m<cell line: 51>\u001b[0;34m()\u001b[0m\n\u001b[1;32m     <a href='vscode-notebook-cell://ssh-remote%2B141.218.60.38/home/kin/Desktop/Notes-on-Bayes/3.%20Gaussian_Mixture_Model.ipynb#W5sdnNjb2RlLXJlbW90ZQ%3D%3D?line=46'>47</a>\u001b[0m             \u001b[39mself\u001b[39m\u001b[39m.\u001b[39mprecisions_ \u001b[39m=\u001b[39m \u001b[39m1.\u001b[39m\u001b[39m/\u001b[39mvk\n\u001b[1;32m     <a href='vscode-notebook-cell://ssh-remote%2B141.218.60.38/home/kin/Desktop/Notes-on-Bayes/3.%20Gaussian_Mixture_Model.ipynb#W5sdnNjb2RlLXJlbW90ZQ%3D%3D?line=49'>50</a>\u001b[0m t \u001b[39m=\u001b[39m test(\u001b[39m3\u001b[39m, max_iter\u001b[39m=\u001b[39m\u001b[39m10\u001b[39m)\n\u001b[0;32m---> <a href='vscode-notebook-cell://ssh-remote%2B141.218.60.38/home/kin/Desktop/Notes-on-Bayes/3.%20Gaussian_Mixture_Model.ipynb#W5sdnNjb2RlLXJlbW90ZQ%3D%3D?line=50'>51</a>\u001b[0m t\u001b[39m.\u001b[39;49mfit(obs_data)\n\u001b[1;32m     <a href='vscode-notebook-cell://ssh-remote%2B141.218.60.38/home/kin/Desktop/Notes-on-Bayes/3.%20Gaussian_Mixture_Model.ipynb#W5sdnNjb2RlLXJlbW90ZQ%3D%3D?line=51'>52</a>\u001b[0m t\u001b[39m.\u001b[39mmeans_\n",
      "\u001b[1;32m/home/kin/Desktop/Notes-on-Bayes/3. Gaussian_Mixture_Model.ipynb Cell 6\u001b[0m in \u001b[0;36mtest.fit\u001b[0;34m(self, X)\u001b[0m\n\u001b[1;32m     <a href='vscode-notebook-cell://ssh-remote%2B141.218.60.38/home/kin/Desktop/Notes-on-Bayes/3.%20Gaussian_Mixture_Model.ipynb#W5sdnNjb2RlLXJlbW90ZQ%3D%3D?line=36'>37</a>\u001b[0m \u001b[39mfor\u001b[39;00m n \u001b[39min\u001b[39;00m \u001b[39mrange\u001b[39m(n_samples):\n\u001b[1;32m     <a href='vscode-notebook-cell://ssh-remote%2B141.218.60.38/home/kin/Desktop/Notes-on-Bayes/3.%20Gaussian_Mixture_Model.ipynb#W5sdnNjb2RlLXJlbW90ZQ%3D%3D?line=37'>38</a>\u001b[0m     \u001b[39mfor\u001b[39;00m k \u001b[39min\u001b[39;00m \u001b[39mrange\u001b[39m(\u001b[39mself\u001b[39m\u001b[39m.\u001b[39mn_components):\n\u001b[1;32m     <a href='vscode-notebook-cell://ssh-remote%2B141.218.60.38/home/kin/Desktop/Notes-on-Bayes/3.%20Gaussian_Mixture_Model.ipynb#W5sdnNjb2RlLXJlbW90ZQ%3D%3D?line=38'>39</a>\u001b[0m         \u001b[39m# self.qz[n][k] = self.pi[k] * np.sqrt(self.precisions_[k])  * np.exp(-0.5 * (X[i] - self.means_[k])**2 * self.precisions_[k])\u001b[39;00m\n\u001b[0;32m---> <a href='vscode-notebook-cell://ssh-remote%2B141.218.60.38/home/kin/Desktop/Notes-on-Bayes/3.%20Gaussian_Mixture_Model.ipynb#W5sdnNjb2RlLXJlbW90ZQ%3D%3D?line=39'>40</a>\u001b[0m         \u001b[39mself\u001b[39m\u001b[39m.\u001b[39mqz[n][k] \u001b[39m=\u001b[39m \u001b[39mself\u001b[39m\u001b[39m.\u001b[39mpi[k] \u001b[39m*\u001b[39m stats\u001b[39m.\u001b[39mmultivariate_normal(mean\u001b[39m=\u001b[39m\u001b[39mself\u001b[39m\u001b[39m.\u001b[39mmeans_[k], cov\u001b[39m=\u001b[39m\u001b[39m1.\u001b[39m\u001b[39m/\u001b[39m\u001b[39mself\u001b[39m\u001b[39m.\u001b[39mprecisions_[k])\u001b[39m.\u001b[39mpdf(X)\n\u001b[1;32m     <a href='vscode-notebook-cell://ssh-remote%2B141.218.60.38/home/kin/Desktop/Notes-on-Bayes/3.%20Gaussian_Mixture_Model.ipynb#W5sdnNjb2RlLXJlbW90ZQ%3D%3D?line=41'>42</a>\u001b[0m     \u001b[39mself\u001b[39m\u001b[39m.\u001b[39mqz[n] \u001b[39m/\u001b[39m\u001b[39m=\u001b[39m np\u001b[39m.\u001b[39msum(\u001b[39mself\u001b[39m\u001b[39m.\u001b[39mqz[n])\n\u001b[1;32m     <a href='vscode-notebook-cell://ssh-remote%2B141.218.60.38/home/kin/Desktop/Notes-on-Bayes/3.%20Gaussian_Mixture_Model.ipynb#W5sdnNjb2RlLXJlbW90ZQ%3D%3D?line=43'>44</a>\u001b[0m nk, xk, vk \u001b[39m=\u001b[39m \u001b[39mself\u001b[39m\u001b[39m.\u001b[39m_estimate_gaussian_parameters(X, \u001b[39mself\u001b[39m\u001b[39m.\u001b[39mqz)\n",
      "\u001b[0;31mValueError\u001b[0m: setting an array element with a sequence."
     ]
    }
   ],
   "source": [
    "class test:\n",
    "    def __init__(self, n_components=1, max_iter=100):\n",
    "        self.n_components = n_components\n",
    "        self.max_iter = max_iter\n",
    "\n",
    "\n",
    "    def _initialize(self, X):\n",
    "        self.pi = [1 / self.n_components for i in range(self.n_components)]\n",
    "        n_samples, _ = X.shape\n",
    "        self.qz = np.zeros(shape=(n_samples, self.n_components))\n",
    "        for n in range(n_samples):\n",
    "            k = np.random.randint(0, self.n_components)\n",
    "            self.qz[n][k] = 1\n",
    "            \n",
    "        nk, xk, vk = self._estimate_gaussian_parameters(X, self.qz)\n",
    "        self.pi = nk / np.sum(nk)\n",
    "        self.means_ = xk\n",
    "        self.precisions_ = 1./vk\n",
    "\n",
    "    def _estimate_gaussian_parameters(self, X, qz):\n",
    "        \n",
    "        nk = np.sum(qz, axis=0)\n",
    "        means = np.dot(qz.T, X) / nk[:, np.newaxis]\n",
    "        var = np.empty(shape=self.n_components)\n",
    "        for k in range(self.n_components):\n",
    "            diff = X - means[k]\n",
    "            var[k] = np.dot(qz[:, k] * diff.T, diff) / nk[k]\n",
    "        \n",
    "        return nk, means, var\n",
    "\n",
    "\n",
    "    def fit(self, X):\n",
    "        self._initialize(X)\n",
    "        n_samples, _ = X.shape\n",
    "        \n",
    "        for i in range(self.max_iter):\n",
    "            for n in range(n_samples):\n",
    "                for k in range(self.n_components):\n",
    "                    # self.qz[n][k] = self.pi[k] * np.sqrt(self.precisions_[k])  * np.exp(-0.5 * (X[i] - self.means_[k])**2 * self.precisions_[k])\n",
    "                    self.qz[n][k] = self.pi[k] * stats.multivariate_normal(mean=self.means_[k], cov=1./self.precisions_[k]).pdf(X)\n",
    "\n",
    "                self.qz[n] /= np.sum(self.qz[n])\n",
    "\n",
    "            nk, xk, vk = self._estimate_gaussian_parameters(X, self.qz)\n",
    "            self.pi = nk / np.sum(nk)\n",
    "            self.means_ = xk\n",
    "            self.precisions_ = 1./vk\n",
    "        \n",
    "\n",
    "t = test(3, max_iter=10)\n",
    "t.fit(obs_data)\n",
    "t.means_\n",
    "\n",
    "        \n",
    "\n",
    "\n",
    "        \n",
    "\n",
    "\n"
   ]
  },
  {
   "cell_type": "code",
   "execution_count": null,
   "metadata": {},
   "outputs": [],
   "source": [
    "def normal_distribution(x, mean, precision):\n",
    "    return np.sqrt(precision / 2. / np.pi) * np.exp(-0.5 * (x-mean)**2 * precision)\n",
    "\n",
    "class BasicGMM:\n",
    "    def __init__(self, n_components=1, max_iter=100, tol=1e-3):\n",
    "        self.n_components = n_components\n",
    "        self.max_iter = max_iter\n",
    "        self.tol = tol\n",
    "\n",
    "    def fit(self, X):\n",
    "\n",
    "        self._initialize_parameters(X)\n",
    "        tol = 1e3\n",
    "        iter = 0\n",
    "\n",
    "        while tol > self.tol and iter < self.max_iter:\n",
    "            qz = self._e_step(X)\n",
    "            self._m_step(X, qz)\n",
    "            iter += 1\n",
    "            # print(iter)\n",
    "        return self \n",
    "\n",
    "    def _initialize_parameters(self, X):\n",
    "        n_samples, _ = X.shape\n",
    "        qz = np.zeros(shape=(n_samples, self.n_components))\n",
    "        for n in range(n_samples):\n",
    "            k = np.random.randint(0, self.n_components)\n",
    "            qz[n][k] = 1\n",
    "\n",
    "        self._initialize(X, qz)\n",
    "\n",
    "    def _initialize(self, X, qz):\n",
    "        nk, xk, vk = self._estimate_gaussian_parameters(X, qz)\n",
    "        self.pi = nk / np.sum(nk)\n",
    "        self.means_ = xk\n",
    "        self.precisions_ = 1./vk\n",
    "\n",
    "    def _estimate_gaussian_parameters(self, X, qz):\n",
    "        \n",
    "        nk = np.sum(qz, axis=0)\n",
    "        means = np.dot(qz.T, X) / nk[:, np.newaxis]\n",
    "        var = np.empty(shape=self.n_components)\n",
    "        for k in range(self.n_components):\n",
    "            diff = X - means[k]\n",
    "            var[k] = np.dot(qz[:, k] * diff.T, diff) / nk[k]\n",
    "        \n",
    "        return nk, means, var\n",
    "\n",
    "    def _e_step(self, X):\n",
    "        n_samples, _ = X.shape\n",
    "        qz = np.empty(shape=(n_samples, self.n_components))\n",
    "        for n in range(n_samples):\n",
    "            for k in range(self.n_components):\n",
    "                qz[n][k] = self.pi[k] * normal_distribution(X[n], self.means_[k], self.precisions_[k])\n",
    "            qz[n] /= np.sum(qz[n])\n",
    "        return qz\n",
    "\n",
    "    def _m_step(self, X, qz):\n",
    "        self._initialize(X, qz)\n",
    "        print(self.means_)\n",
    "        \n",
    "\n",
    "gmm = BasicGMM(3)\n",
    "gmm.fit(obs_data)"
   ]
  },
  {
   "cell_type": "markdown",
   "metadata": {},
   "source": [
    "As seen from the figure, the data we can observe would be the sum of the gaussian distributions. If these gaussians are close then we could not distinguish them from being one gaussian or a mixture of gaussian. Our goal, as usual, is to calculate the posterior given the data. The problem would be as easy as one single gaussian if we know which gaussian each data point comes from. In reality we don't, thus we need to introduce the latent variables."
   ]
  },
  {
   "cell_type": "markdown",
   "metadata": {},
   "source": [
    "## Mean field Variational inference for GMM\n",
    " In our case, we know or we want to group the data into $K$ gaussian, what we want to learn is the posterior for variable $X$, latent variables $Z$ which tells us which gaussian it belongs to, and finally $\\pi$ the pdf of these gaussians. Our probablistic model is\n",
    "\\begin{equation*}\n",
    "p(X, Z, \\pi|\\mu, \\sigma) = p(\\pi)\\prod_{i=1}^{N} p(z_i|\\pi) p(x_i|z_i,\\mu,\\sigma) = Dir(\\pi|\\alpha) \\prod_{i=1}^N \\prod_{k=1}^K \\big[\\pi_k \\mathcal{N}(x_i|\\mu_k, \\sigma_k)\\big]^{z_{ik}}\n",
    "\\end{equation*}\n",
    "Note that $z_{ik}$ is either 1 or 0 to pick the gaussian from which the data point belongs to."
   ]
  },
  {
   "cell_type": "markdown",
   "metadata": {},
   "source": [
    "#### Test for conjugacy\n",
    "First, we need to verify that GMM satisfy conditional conjugacy. Namely, if we fix $Z$, the prior has the form\n",
    "\\begin{gather*}\n",
    "\\text{prior:} \\qquad p(\\pi,Z) = p(\\pi) \\prod_{i=1}^N p(z_i|\\pi) = Dir(\\pi|\\alpha) \\prod_{i=1}^N\\prod_{k=1}^K \\pi_k^{z_{ik}} = C\\prod_{k=1}^K \\pi_k^C \\\\\n",
    "\\text{posterior:} \\qquad p(Z,\\pi|X) \\propto p(X,Z,\\pi) = Dir(\\pi|\\alpha)  \\prod_{i=1}^N\\prod_{k=1}^K C^{z_{ik}} \\pi_k^{z_{ik}} = C\\prod_{k=1}^K \\pi_k^C\n",
    "\\end{gather*}"
   ]
  },
  {
   "cell_type": "markdown",
   "metadata": {},
   "source": [
    "where $\\prod_{i=1}^N \\pi_k^{z_{ik}} \\rightarrow \\prod_{i=1}^N \\pi_k^C \\rightarrow \\pi_k^C$, all C represent differenet constants. If we fix $\\pi$, then\n",
    "\\begin{gather*}\n",
    "\\text{prior:} \\qquad p(\\pi,Z) = p(\\pi) \\prod_{i=1}^N p(z_i|\\pi) = Dir(\\pi|\\alpha) \\prod_{i=1}^N\\prod_{k=1}^K \\pi_k^{z_{ik}} = C\\prod_{i=1}^N\\prod_{k=1}^K C^{z_{ik}} \\\\\n",
    "\\text{posterior:} \\qquad p(Z,\\pi|X) \\propto p(X,Z,\\pi) = Dir(\\pi|\\alpha)  \\prod_{i=1}^N\\prod_{k=1}^K C^{z_{ik}} \\pi_k^{z_{ik}} = C \\prod_{i=1}^N\\prod_{k=1}^K C^{z_{ik}}\n",
    "\\end{gather*}\n",
    "Therefore, it is ok to apply block coordinate ascent. Next we proceed to get the update rule for $q(Z)$ and $q(\\pi)$."
   ]
  },
  {
   "cell_type": "markdown",
   "metadata": {},
   "source": [
    "## EM Algorithm\n",
    "In a mean-field approximation, we neglect any correlation between the latent variables, very much like the mean-field approximation in many body problem which allows us to diagonalize the Hamiltonian. Mathematically, $q(Z,\\pi) = q(Z)q(\\pi)$. Here, the model involves X, latent variables Z and $\\pi$ and parameters of the gaussians. In case like this, it is suggested to use the Expectation-Maximization (EM) algorithm in which the E-step updates the pdf of latent variables (using Coordinate Ascent for Variational Inference) and the M-step optimizes the parameters. In this ipynb, I take this approach as axiom and possibly will study the 'proof' later. \n",
    "\n",
    "#### E-step : Update Rule for $q(Z)$ and $q(\\pi)$\n",
    "The alogorithm of \"Coordinate Ascent for Variational Inference\" tells us the update rule for each latent variables : \n",
    "\\begin{equation*}\n",
    "q_k(\\theta_k) \\propto \\exp\\bigg[\\mathbb{E}_{q_{-k}(\\theta_{-k})}\\log p(\\theta,x) \\bigg]\n",
    "\\end{equation*}"
   ]
  },
  {
   "cell_type": "markdown",
   "metadata": {},
   "source": [
    "In our case, \n",
    "\\begin{align*}\n",
    "\\log q(\\pi) &= \\mathbb{E}_{q(Z)}\\log p(X, Z, \\pi) + \\text{const} \\\\ \n",
    "&= \\mathbb{E}_{q(Z)} \\bigg[ \\sum_{k=1}^K (\\alpha_k-1)\\log \\pi_k + \\sum_{i=1}^N\\sum_{k=1}^K z_{ik}\\log \\pi_k \\bigg] + \\text{const}\\\\\n",
    "&= \\sum_{k=1}^K (\\alpha_k-1)\\log \\pi_k + \\sum_{i=1}^N\\sum_{k=1}^K \\mathbb{E}_{q(Z)}z_{ik} \\log \\pi_k + \\text{const} \\\\\n",
    "&= \\sum_{k=1}^K \\log \\pi_k \\bigg( \\alpha_k -1 + \\sum_{i=1}^N \\mathbb{E}_{q(Z)}z_{ik} \\bigg) + \\text{const}\n",
    "\\end{align*}"
   ]
  },
  {
   "cell_type": "markdown",
   "metadata": {},
   "source": [
    "where we have used the relation $Dir(\\pi|\\alpha) \\propto \\prod_{k=1}^K \\pi_k^{\\alpha_k-1}$ before taking the log. Due to the conditional conjugacy $q(\\pi)$ would have the same form as prior and thus we get the update rule :\n",
    "\\begin{gather*}\n",
    "q(\\pi) = Dir(\\pi | \\alpha')\\\\\n",
    "\\alpha_k' = \\alpha_k + \\sum_{i=1}^N \\mathbb{E}_{q(Z)} z_{ik}  = \\alpha_k + \\sum_{i=1}^N q(z_{ik}=1)\n",
    "\\end{gather*}\n",
    "\n",
    "\n"
   ]
  },
  {
   "cell_type": "markdown",
   "metadata": {},
   "source": [
    "The update rule for $q(Z)$:\n",
    "\\begin{align*}\n",
    "    \\log q(Z) &= \\mathbb{E}_{q(\\pi)}\\log p(X, Z, \\pi) + \\text{const} \\\\ \n",
    "    &= \\mathbb{E}_{q(\\pi)} \\sum_{i=1}^N\\sum_{k=1}^K z_{ik}\\bigg[\\log \\pi_k + \\log \\mathcal{N}(x_i| \\mu_k,\\sigma_k) \\bigg] + \\text{const}\\\\\n",
    "    &= \\sum_{i=1}^N\\sum_{k=1}^K z_{ik}\\bigg[\\mathbb{E}_{q(\\pi)} \\log \\pi_k + \\log \\mathcal{N}(x_i| \\mu_k,\\sigma_k) \\bigg] + \\text{const} \\\\\n",
    "    &= \\sum_{i=1}^N\\sum_{k=1}^K z_{ik}\\log \\rho_{ik} + \\text{const}\n",
    "\\end{align*} "
   ]
  },
  {
   "cell_type": "markdown",
   "metadata": {},
   "source": [
    "where we denote $\\log \\rho_{ik} = \\mathbb{E}_{q(\\pi)} \\log \\pi_k + \\log \\mathcal{N}(x_i| \\mu_k,\\sigma_l)$ since again by conjugacy we know $q(Z)$ is categorical. We can see that \n",
    "\\begin{gather*}\n",
    "q(Z)\\propto \\prod_{i=1}^N\\prod_{k=1}^K \\rho_{ik}^{z_{ik}}\n",
    "\\end{gather*}\n",
    "\n",
    "We can then normalize by using $\\sum_{k=1}^K p(z_{ik}=1) = \\sum_{k=1}^K \\rho_{ik}= 1$, i.e.\n",
    "\\begin{gather*}\n",
    "q(Z)= \\prod_{i=1}^N\\prod_{k=1}^K \\bigg(\\frac{\\rho_{ik}}{\\sum_{l=1}^K \\rho_{il}}\\bigg)^{z_{ik}} \\\\\n",
    "\\rho_{ik} = \\mathbb{E}_{q(\\pi)} \\log \\pi_k + \\log \\mathcal{N}(x_i|\\mu_k,\\sigma_k)\n",
    "\\end{gather*}"
   ]
  },
  {
   "cell_type": "markdown",
   "metadata": {},
   "source": [
    "Note that the expectation term in $\\rho_{ik}$ can be calculated with the update rule of $q(\\pi)$. "
   ]
  },
  {
   "cell_type": "markdown",
   "metadata": {},
   "source": [
    "#### M-step : Maximize ELBO with respect to parameters\n",
    "In M-step, we use the $q(Z)$ found in E-step to optimize:\n",
    "\\begin{equation*}\n",
    "\\theta^{\\text{NEW}} = \\argmax_{\\theta} \\mathbb{E}_{p(Z)} \\log p(X,Z; \\theta)\n",
    "\\end{equation*}\n",
    "The expectation value, dropping the term independent of $\\mu, \\sigma$, is\n",
    "\\begin{align*}\n",
    "\\mathbb{E}_{p(Z,\\pi)} \\log p(X,Z,\\pi; \\mu, \\sigma) &= \\mathbb{E}_{p(Z,\\pi)} \\log\\bigg( Dir(\\pi|\\alpha) \\prod_{i=1}^N \\prod_{k=1}^K \\big[\\pi_k \\mathcal{N}(x_i|\\mu_k, \\sigma_k)\\big]^{z_{ik}}\\bigg) \\\\\n",
    "&= \\mathbb{E}_{p(Z,\\pi)} \\bigg[ \\log Dir(\\pi|\\alpha) + \\sum_{i=1}^N\\sum_{k=1}^K z_{ik}\\log\\pi_k + z_{ik}\\log \\mathcal{N}(x_i|\\mu_k,\\sigma_k) \\bigg]\\\\\n",
    "&= \\sum_{i=1}^N\\sum_{k=1}^K \\mathbb{E}_{p(Z)}z_{ik}\\log \\mathcal{N}(x_i|\\mu_k,\\sigma_k) + \\text{const}\\\\\n",
    "&=\\sum_{i=1}^N\\sum_{k=1}^K \\mathbb{E}_{p(Z)}z_{ik} \\bigg( -\\log \\sigma_k - \\frac{(x_i-\\mu_k)^2}{2\\sigma_k^2}\\bigg) + \\text{const}\\\\\n",
    "&=\\sum_{i=1}^N\\sum_{k=1}^K\\gamma_{ik} \\bigg( -\\log \\sigma_k - \\frac{(x_i-\\mu_k)^2}{2\\sigma_k^2}\\bigg) + \\text{const}\n",
    "\\end{align*}\n"
   ]
  },
  {
   "cell_type": "markdown",
   "metadata": {},
   "source": [
    "The expectation of Dirichlet distribution does not depend on $\\mu$ and $\\sigma$, thus is regarded as constant. Variate with respect to $\\mu_k$, \n",
    "\\begin{align*}\n",
    "\\sum_{i=1}^N\\gamma_{ik} \\frac{x_i-\\mu_k}{\\sigma_k^2} = 0 \\implies \\mu_k = \\frac{\\sum_{i=1}^N \\gamma_{ik}x_i}{\\sum_{i=1}^N\\gamma_{ik}}\n",
    "\\end{align*}\n"
   ]
  },
  {
   "cell_type": "markdown",
   "metadata": {},
   "source": [
    "Variate with respect to $\\sigma_k$,\n",
    "\\begin{align*}\n",
    "\\sum_{i=1}^N\\gamma_{ik}\\bigg(-\\frac{1}{\\sigma_k} + \\frac{3(x_i-\\mu_k)^2}{\\sigma_k^3}\\bigg) = 0 \\implies \\sigma_k^2 = \\frac{\\sum_{i=1}^N3\\gamma_{ik}(x_i-\\mu_k)^2}{\\sum_{i=1}^N\\gamma_{ik}}\n",
    "\\end{align*}"
   ]
  },
  {
   "cell_type": "code",
   "execution_count": null,
   "metadata": {},
   "outputs": [],
   "source": [
    "import numpy as np\n",
    "from scipy import special\n",
    "from scipy import stats\n",
    "\n",
    "class Dirichlet_GMM1D:\n",
    "    def __init__(self, n_components=1, tol=1e-3, max_iter=100):\n",
    "        self.n_components = n_components # number of mixture\n",
    "        self.max_iter = max_iter # number of max iter\n",
    "        self.tol = tol\n",
    "\n",
    "    def fit(self, X):\n",
    "        self._initialize(X)\n",
    "        tol = 1e3\n",
    "        iter = 0\n",
    "\n",
    "        while tol > self.tol and iter < self.max_iter:\n",
    "            self._Estep(X)\n",
    "            self._Mstep(X)\n",
    "            iter += 1\n",
    "            print(iter)\n",
    "        return self \n",
    "\n",
    "    def _initialize(self, X):\n",
    "\n",
    "        self.alpha = np.full(shape=self.n_components, fill_value=1./self.n_components)\n",
    "        n_samples, _ = X.shape\n",
    "        self.qZ = np.zeros(shape=(n_samples, self.n_components))\n",
    "        for n in range(n_samples):\n",
    "            k = np.random.randint(0, self.n_components)\n",
    "            self.qZ[n][k] = 1\n",
    "\n",
    "        self._update_mean(X)\n",
    "        self._update_precision(X)\n",
    "\n",
    "    def _Estep(self, X):\n",
    "        self._update_qz(X)\n",
    "        self._update_qpi(X)\n",
    "\n",
    "    def _Mstep(self, X):\n",
    "        self._update_mean(X)\n",
    "        self._update_precision(X)\n",
    "\n",
    "    def _update_qz(self, X):\n",
    "        n_samples, _ = X.shape\n",
    "        for i in range(n_samples):\n",
    "            for k in range(self.n_components):\n",
    "                # log_norm = np.log(self._normal(X[i], self.means[k], self.var[k]))\n",
    "                log_norm = -0.5 * np.log(self.var[k]) - (X[i]-self.means[k])**2 / 2. /self.var[k] \n",
    "                Eq_logpi = special.digamma(self.alpha[k]) - special.digamma(np.sum(self.alpha))\n",
    "                self.qZ[i][k] = Eq_logpi + log_norm\n",
    "\n",
    "            self.qZ[i] /= np.sum(self.qZ[i])\n",
    "        print(self.qZ)\n",
    "        return self.qZ\n",
    "\n",
    "    # def _normal(self, x, mean, var):\n",
    "    #     return (2*np.pi*var)**(-1/2) * np.exp(-(x-mean)**2/2./var)\n",
    "\n",
    "    def _update_qpi(self, X):\n",
    "        nk = np.sum(self.qZ, axis=0)\n",
    "        self.alpha += nk\n",
    "        return self.alpha\n",
    "\n",
    "    def _update_mean(self, X):\n",
    "        # n_samples, _ = X.shape\n",
    "        # for k in range(self.n_components):\n",
    "        #     for i in range(n_samples):\n",
    "        #         self.means[k] += self.qZ[i][k] * X[i]\n",
    "        #     self.means[k] /= np.sum(self.qZ, axis=0)[k]\n",
    "\n",
    "        nk = np.sum(self.qZ, axis=0)\n",
    "        self.means = np.dot(self.qZ.T, X) / nk[:, np.newaxis]\n",
    "        print(self.means)\n",
    "        return self.means\n",
    "\n",
    "    def _update_precision(self, X):\n",
    "        nk = np.sum(self.qZ, axis=0)\n",
    "        self.var = np.empty(shape=self.n_components)\n",
    "        for k in range(self.n_components):\n",
    "            diff = X - self.means[k]\n",
    "            self.var[k] = np.dot(self.qZ[:, k] * diff.T, diff) / nk[k]\n",
    "\n",
    "        self.precision = 1./self.var[k]\n",
    "        return self.precision\n",
    "        \n",
    "\n",
    "# our model\n",
    "K = 3\n",
    "np.random.shuffle(obs_data)\n",
    "dir_gmm = Dirichlet_GMM1D(n_components=K, max_iter=5)\n",
    "dir_gmm.fit(obs_data)\n"
   ]
  },
  {
   "cell_type": "code",
   "execution_count": null,
   "metadata": {},
   "outputs": [],
   "source": []
  }
 ],
 "metadata": {
  "kernelspec": {
   "display_name": "Python 3.9.12 ('base')",
   "language": "python",
   "name": "python3"
  },
  "language_info": {
   "codemirror_mode": {
    "name": "ipython",
    "version": 3
   },
   "file_extension": ".py",
   "mimetype": "text/x-python",
   "name": "python",
   "nbconvert_exporter": "python",
   "pygments_lexer": "ipython3",
   "version": "3.9.12"
  },
  "orig_nbformat": 4,
  "vscode": {
   "interpreter": {
    "hash": "7d3cd1669c9bd0bc4a10448fec43c91475e59e3af6819e48dac91adb18c81ad3"
   }
  }
 },
 "nbformat": 4,
 "nbformat_minor": 2
}
